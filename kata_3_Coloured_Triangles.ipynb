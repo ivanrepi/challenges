{
 "cells": [
  {
   "cell_type": "markdown",
   "id": "7289d1c7",
   "metadata": {},
   "source": [
    "### Coloured Triangles"
   ]
  },
  {
   "cell_type": "markdown",
   "id": "8b99a4e3",
   "metadata": {},
   "source": [
    "https://www.codewars.com/kata/5a25ac6ac5e284cfbe000111/train/python"
   ]
  },
  {
   "cell_type": "code",
   "execution_count": 150,
   "id": "6e70b3ac",
   "metadata": {},
   "outputs": [],
   "source": [
    "def triangle(row):\n",
    "    new_line=\"\"\n",
    "    for j in range (len(row)-1):\n",
    "        for i in range(len(row)-1):\n",
    "            if row[i]==row[i+1]:\n",
    "                    new_line+=(row[i])\n",
    "            elif (row[i]==\"R\" or row[i]==\"G\") and (row[i+1]==\"R\" or row[i+1]==\"G\"):\n",
    "                new_line+=\"B\"\n",
    "            elif (row[i]==\"B\" or row[i]==\"G\") and (row[i+1]==\"B\" or row[i+1]==\"G\"):\n",
    "                new_line+=\"R\"\n",
    "            elif (row[i]==\"B\" or row[i]==\"R\") and (row[i+1]==\"B\" or row[i+1]==\"R\"):\n",
    "                new_line+=\"G\"\n",
    "        row=new_line\n",
    "        new_line=\"\"\n",
    "    return row\n",
    "\n"
   ]
  },
  {
   "cell_type": "code",
   "execution_count": 151,
   "id": "1f2a94ed",
   "metadata": {},
   "outputs": [
    {
     "data": {
      "text/plain": [
       "'G'"
      ]
     },
     "execution_count": 151,
     "metadata": {},
     "output_type": "execute_result"
    }
   ],
   "source": [
    "triangle('RBRGBRBGGRRRBGBBBGG')"
   ]
  },
  {
   "cell_type": "code",
   "execution_count": null,
   "id": "c0c1bbec",
   "metadata": {},
   "outputs": [],
   "source": []
  },
  {
   "cell_type": "code",
   "execution_count": null,
   "id": "09024d48",
   "metadata": {},
   "outputs": [],
   "source": []
  }
 ],
 "metadata": {
  "kernelspec": {
   "display_name": "Python [conda env:ironhack_env]",
   "language": "python",
   "name": "conda-env-ironhack_env-py"
  },
  "language_info": {
   "codemirror_mode": {
    "name": "ipython",
    "version": 3
   },
   "file_extension": ".py",
   "mimetype": "text/x-python",
   "name": "python",
   "nbconvert_exporter": "python",
   "pygments_lexer": "ipython3",
   "version": "3.7.11"
  }
 },
 "nbformat": 4,
 "nbformat_minor": 5
}
