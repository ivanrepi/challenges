{
 "cells": [
  {
   "cell_type": "markdown",
   "id": "f3f69976",
   "metadata": {},
   "source": [
    "### User class for Banking System"
   ]
  },
  {
   "cell_type": "markdown",
   "id": "fee26e7b",
   "metadata": {},
   "source": [
    "https://www.codewars.com/kata/5a03af9606d5b65ff7000009/train/python"
   ]
  },
  {
   "cell_type": "code",
   "execution_count": 47,
   "id": "c52db36e",
   "metadata": {},
   "outputs": [],
   "source": [
    "class User(object):\n",
    "    def __init__(self, name, balance, checking_account):\n",
    "        self.name = name\n",
    "        self.balance = balance\n",
    "        self.checking_account = checking_account\n",
    "        \n",
    "    def withdraw(self, amount):\n",
    "        if amount>self.balance:\n",
    "            raise ValueError(\"There isn't enough money to withdraw\")\n",
    "        else:\n",
    "            self.balance = self.balance - amount\n",
    "            return f'{self.name} has {self.balance}.'\n",
    "    \n",
    "    def check(self, user, amount_stolen):\n",
    "        if amount_stolen>user.balance:\n",
    "            raise ValueError(\"There isn't enough money to steal\")\n",
    "        if user.checking_account != True:\n",
    "            raise ValueError(\"Checking account isn't true\")\n",
    "        else:\n",
    "            self.balance = self.balance + amount_stolen\n",
    "            user.balance=user.balance-amount_stolen\n",
    "            return f'{self.name} has {self.balance} and {user.name} has {user.balance}.'\n",
    "    \n",
    "    def add_cash(self, amount_added):\n",
    "            self.balance = self.balance + amount_added\n",
    "            return f'{self.name} has {self.balance}.'"
   ]
  },
  {
   "cell_type": "code",
   "execution_count": null,
   "id": "a29b8bc8",
   "metadata": {},
   "outputs": [],
   "source": []
  },
  {
   "cell_type": "code",
   "execution_count": null,
   "id": "85d10785",
   "metadata": {},
   "outputs": [],
   "source": []
  }
 ],
 "metadata": {
  "kernelspec": {
   "display_name": "Python [conda env:ironhack_env]",
   "language": "python",
   "name": "conda-env-ironhack_env-py"
  },
  "language_info": {
   "codemirror_mode": {
    "name": "ipython",
    "version": 3
   },
   "file_extension": ".py",
   "mimetype": "text/x-python",
   "name": "python",
   "nbconvert_exporter": "python",
   "pygments_lexer": "ipython3",
   "version": "3.7.11"
  }
 },
 "nbformat": 4,
 "nbformat_minor": 5
}
