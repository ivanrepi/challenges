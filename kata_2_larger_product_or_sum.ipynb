{
 "cells": [
  {
   "cell_type": "code",
   "execution_count": 12,
   "id": "94a9703d",
   "metadata": {},
   "outputs": [],
   "source": [
    "def sum_or_product(array, n):\n",
    "    array.sort() #Sort the array\n",
    "    sum_of_digits=array[-n:] #Collect the biggest numbers to sum them\n",
    "    product_of_digits=array[:n] #Collect the smaller numbers to multiply them\n",
    "\n",
    "    sum=0\n",
    "    for number in sum_of_digits: #For sum list, sum each digit and save it in sum\n",
    "        sum+=number\n",
    "    \n",
    "\n",
    "    product=1\n",
    "    for number in product_of_digits: #For prodcut list, multiply each digit and save it in product\n",
    "        product*=number\n",
    "\n",
    "    if sum>product: #Compare sum and product values to return \"sum\", \"product\" or \"same\"\n",
    "        return(\"sum\")\n",
    "    elif product>sum:\n",
    "        return(\"product\")\n",
    "    else:\n",
    "        return(\"same\")\n",
    "    "
   ]
  },
  {
   "cell_type": "code",
   "execution_count": 13,
   "id": "2115f065",
   "metadata": {},
   "outputs": [
    {
     "data": {
      "text/plain": [
       "'product'"
      ]
     },
     "execution_count": 13,
     "metadata": {},
     "output_type": "execute_result"
    }
   ],
   "source": [
    "sum_or_product([10, 41, 8, 16, 20, 36, 9, 13, 20], 3)"
   ]
  },
  {
   "cell_type": "code",
   "execution_count": null,
   "id": "1d11b093",
   "metadata": {},
   "outputs": [],
   "source": []
  }
 ],
 "metadata": {
  "kernelspec": {
   "display_name": "Python [conda env:ironhack_env]",
   "language": "python",
   "name": "conda-env-ironhack_env-py"
  },
  "language_info": {
   "codemirror_mode": {
    "name": "ipython",
    "version": 3
   },
   "file_extension": ".py",
   "mimetype": "text/x-python",
   "name": "python",
   "nbconvert_exporter": "python",
   "pygments_lexer": "ipython3",
   "version": "3.7.11"
  }
 },
 "nbformat": 4,
 "nbformat_minor": 5
}
