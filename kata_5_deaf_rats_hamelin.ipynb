{
 "cells": [
  {
   "cell_type": "markdown",
   "source": [
    "# The Deaf Rats of Hamelin"
   ],
   "metadata": {}
  },
  {
   "cell_type": "markdown",
   "source": [
    "https://www.codewars.com/kata/598106cb34e205e074000031/solutions/python"
   ],
   "metadata": {}
  },
  {
   "cell_type": "code",
   "execution_count": 45,
   "source": [
    "def count_deaf_rats(town):\n",
    "    sides_list=town.split('P')\n",
    "\n",
    "    left_side=sides_list[0]\n",
    "    right_side=sides_list[1]\n",
    "\n",
    "    left_side=left_side.replace(\" \", \"\")\n",
    "    right_side=right_side.replace(\" \", \"\")\n",
    "\n",
    "\n",
    "    rat_bad_direction=0\n",
    "\n",
    "    i=0\n",
    "    j=0\n",
    "    while i < len(left_side)-1:\n",
    "        rat_direction= left_side[i]+left_side[i+1]\n",
    "\n",
    "        if rat_direction == \"O~\":\n",
    "            rat_bad_direction+=1\n",
    "        i+=2\n",
    "        \n",
    "    while j < len(right_side)-1:\n",
    "        rat_direction= right_side[j]+right_side[j+1]\n",
    "\n",
    "        if rat_direction == \"~O\":\n",
    "            rat_bad_direction+=1\n",
    "        j+=2\n",
    "        \n",
    "    return(rat_bad_direction)\n"
   ],
   "outputs": [],
   "metadata": {}
  },
  {
   "cell_type": "code",
   "execution_count": null,
   "source": [],
   "outputs": [],
   "metadata": {}
  }
 ],
 "metadata": {
  "orig_nbformat": 4,
  "language_info": {
   "name": "python",
   "version": "3.7.11",
   "mimetype": "text/x-python",
   "codemirror_mode": {
    "name": "ipython",
    "version": 3
   },
   "pygments_lexer": "ipython3",
   "nbconvert_exporter": "python",
   "file_extension": ".py"
  },
  "kernelspec": {
   "name": "python3",
   "display_name": "Python 3.7.11 64-bit ('ironhack_env': conda)"
  },
  "interpreter": {
   "hash": "8c5c2b57ca15aef8b3df4b1c6669ccf99964c5a816b33fa10768565149e83d50"
  }
 },
 "nbformat": 4,
 "nbformat_minor": 2
}