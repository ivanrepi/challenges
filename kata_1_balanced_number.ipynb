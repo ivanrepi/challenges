{
 "cells": [
  {
   "cell_type": "markdown",
   "id": "ad0422c9-9f24-462d-8d9f-fca843dd992c",
   "metadata": {},
   "source": [
    "# Balanced Number"
   ]
  },
  {
   "cell_type": "markdown",
   "id": "ea4cfdaa-4d5b-4b5b-9b61-2249baa70a58",
   "metadata": {},
   "source": [
    "### Definition"
   ]
  },
  {
   "cell_type": "markdown",
   "id": "bc1b24c8-63c7-43d8-8824-ff0c16698d99",
   "metadata": {},
   "source": [
    "Balanced number is the number that * The sum of all digits to the left of the middle digit(s) and the sum of all digits to the right of the middle digit(s) are equal*."
   ]
  },
  {
   "cell_type": "markdown",
   "id": "3caa265d-1c08-4f9e-8f9a-813426c02459",
   "metadata": {},
   "source": [
    "### Task"
   ]
  },
  {
   "cell_type": "markdown",
   "id": "4d035339-8666-4836-a5e8-1dd1fe531c3d",
   "metadata": {},
   "source": [
    "Given a number, Find if it is Balanced or not .\n"
   ]
  },
  {
   "cell_type": "markdown",
   "id": "aa7b8ffb-9eae-46ef-b301-7995ff727f57",
   "metadata": {},
   "source": [
    "### Notes"
   ]
  },
  {
   "cell_type": "markdown",
   "id": "4d0d1a3f-1411-4fb8-a5c3-33fbd0e7c7f4",
   "metadata": {},
   "source": [
    "- If the number has an odd number of digits then there is only one middle digit, e.g. 92645 has middle digit 6; otherwise, there are two middle digits , e.g. 1301 has middle digits 3 and 0\n",
    "\n",
    "- The middle digit(s) should not be considered when determining whether a number is balanced or not, e.g 413023 is a balanced number because the left sum and right sum are both 5.\n",
    "\n",
    "- Number passed is always Positive .\n",
    "\n",
    "- Return the result as String\n",
    "\n"
   ]
  },
  {
   "cell_type": "markdown",
   "id": "f4ce44f1-2872-4496-93f3-8c5fc8b72439",
   "metadata": {},
   "source": [
    "# Solution"
   ]
  },
  {
   "cell_type": "code",
   "execution_count": 5,
   "id": "976f2e1e-a772-4b37-928c-3e97fb487736",
   "metadata": {},
   "outputs": [],
   "source": [
    "def balanced_num(number):\n",
    "    number= str(number)\n",
    "    if len(number)<=2:\n",
    "        return \"Balanced\"\n",
    "    else:\n",
    "        if len(number)%2!=0:\n",
    "            middle=int(len(number)//2)\n",
    "        else:\n",
    "            middle=int((len(number)-2)/2)\n",
    "        left=number[:middle]\n",
    "        right= number[-middle:]\n",
    "        left_list= list(left)\n",
    "        right_list= list(right)\n",
    "        sum_left=0\n",
    "        for item in left_list:\n",
    "            sum_left=sum_left + int(item)\n",
    "        sum_right=0\n",
    "        for item in right_list:\n",
    "            sum_right=sum_right + int(item)\n",
    "        if sum_left==sum_right:\n",
    "            return \"Balanced\"\n",
    "        else:\n",
    "            return \"Not Balanced\""
   ]
  },
  {
   "cell_type": "code",
   "execution_count": 6,
   "id": "d5255ad5-9faf-44b9-aa76-c75cb2dabbbb",
   "metadata": {},
   "outputs": [
    {
     "data": {
      "text/plain": [
       "'Not Balanced'"
      ]
     },
     "execution_count": 6,
     "metadata": {},
     "output_type": "execute_result"
    }
   ],
   "source": [
    "balanced_num(55576884937735)"
   ]
  },
  {
   "cell_type": "code",
   "execution_count": null,
   "id": "7d039925-5ece-4e21-b02f-e0d4583f458b",
   "metadata": {},
   "outputs": [],
   "source": []
  }
 ],
 "metadata": {
  "kernelspec": {
   "display_name": "Python [conda env:ironhack_env]",
   "language": "python",
   "name": "conda-env-ironhack_env-py"
  },
  "language_info": {
   "codemirror_mode": {
    "name": "ipython",
    "version": 3
   },
   "file_extension": ".py",
   "mimetype": "text/x-python",
   "name": "python",
   "nbconvert_exporter": "python",
   "pygments_lexer": "ipython3",
   "version": "3.7.11"
  }
 },
 "nbformat": 4,
 "nbformat_minor": 5
}
