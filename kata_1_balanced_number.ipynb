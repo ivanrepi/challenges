{
 "cells": [
  {
   "cell_type": "markdown",
   "id": "ad0422c9-9f24-462d-8d9f-fca843dd992c",
   "metadata": {},
   "source": [
    "# Balanced Number"
   ]
  },
  {
   "cell_type": "markdown",
   "id": "ea4cfdaa-4d5b-4b5b-9b61-2249baa70a58",
   "metadata": {},
   "source": [
    "### Definition"
   ]
  },
  {
   "cell_type": "markdown",
   "id": "bc1b24c8-63c7-43d8-8824-ff0c16698d99",
   "metadata": {},
   "source": [
    "Balanced number is the number that * The sum of all digits to the left of the middle digit(s) and the sum of all digits to the right of the middle digit(s) are equal*."
   ]
  },
  {
   "cell_type": "markdown",
   "id": "3caa265d-1c08-4f9e-8f9a-813426c02459",
   "metadata": {},
   "source": [
    "### Task"
   ]
  },
  {
   "cell_type": "markdown",
   "id": "4d035339-8666-4836-a5e8-1dd1fe531c3d",
   "metadata": {},
   "source": [
    "Given a number, Find if it is Balanced or not .\n"
   ]
  },
  {
   "cell_type": "markdown",
   "id": "aa7b8ffb-9eae-46ef-b301-7995ff727f57",
   "metadata": {},
   "source": [
    "### Notes"
   ]
  },
  {
   "cell_type": "markdown",
   "id": "4d0d1a3f-1411-4fb8-a5c3-33fbd0e7c7f4",
   "metadata": {},
   "source": [
    "- If the number has an odd number of digits then there is only one middle digit, e.g. 92645 has middle digit 6; otherwise, there are two middle digits , e.g. 1301 has middle digits 3 and 0\n",
    "\n",
    "- The middle digit(s) should not be considered when determining whether a number is balanced or not, e.g 413023 is a balanced number because the left sum and right sum are both 5.\n",
    "\n",
    "- Number passed is always Positive .\n",
    "\n",
    "- Return the result as String\n",
    "\n"
   ]
  },
  {
   "cell_type": "markdown",
   "id": "f4ce44f1-2872-4496-93f3-8c5fc8b72439",
   "metadata": {},
   "source": [
    "# Solution"
   ]
  },
  {
   "cell_type": "code",
   "execution_count": 15,
   "id": "976f2e1e-a772-4b37-928c-3e97fb487736",
   "metadata": {},
   "outputs": [],
   "source": [
    "'''\n",
    "We are going to define a function where from a given number, we will find if it is Balanced or not.\n",
    "'''\n",
    "\n",
    "def balanced_num(number):\n",
    "    number= str(number)\n",
    "    \n",
    "    if len(number)<=2: #All numbers with 2 digits or less will be Balanced\n",
    "        return \"Balanced\"\n",
    "    else:\n",
    "        if len(number)%2!=0: #If length is odd, then the middle is half and half (length/2)\n",
    "            middle=int(len(number)//2)\n",
    "        else:\n",
    "            middle=int((len(number)-2)/2) #If length is pair, then the middle is half less 1, as it has 2 middle numbers (one per each half part)\n",
    "        \n",
    "        #Once the middle is calculated, we pass to extract the left half part and the right half part:\n",
    "        \n",
    "        left=number[:middle] #Left part of the number is from digit 0 to defined middle\n",
    "        right= number[-middle:] #Right part of number is from -defined middle, to 0 digit (inverese index)\n",
    "        left_list= list(left) #We list each digit of left part\n",
    "        right_list= list(right) #We list each digit of right part\n",
    "        \n",
    "        #We add all digits in the list, to know the value of the left half part\n",
    "        sum_left=0\n",
    "        for item in left_list:\n",
    "            sum_left=sum_left + int(item)\n",
    "            \n",
    "        #We add all digits in the list, to know the value of the right half part\n",
    "        sum_right=0\n",
    "        for item in right_list:\n",
    "            sum_right=sum_right + int(item)\n",
    "            \n",
    "        #Compare if the left sum digits and the right one have the same value. In case yes, it is BALANCED, otherwise it is NOT BALANCED\n",
    "        if sum_left==sum_right:\n",
    "            return \"Balanced\"\n",
    "        else:\n",
    "            return \"Not Balanced\"\n",
    "        "
   ]
  },
  {
   "cell_type": "code",
   "execution_count": 16,
   "id": "d5255ad5-9faf-44b9-aa76-c75cb2dabbbb",
   "metadata": {},
   "outputs": [
    {
     "data": {
      "text/plain": [
       "'Not Balanced'"
      ]
     },
     "execution_count": 16,
     "metadata": {},
     "output_type": "execute_result"
    }
   ],
   "source": [
    "balanced_num(55576884937735)"
   ]
  },
  {
   "cell_type": "code",
   "execution_count": null,
   "id": "7d039925-5ece-4e21-b02f-e0d4583f458b",
   "metadata": {},
   "outputs": [],
   "source": []
  }
 ],
 "metadata": {
  "kernelspec": {
   "display_name": "Python [conda env:ironhack_env]",
   "language": "python",
   "name": "conda-env-ironhack_env-py"
  },
  "language_info": {
   "codemirror_mode": {
    "name": "ipython",
    "version": 3
   },
   "file_extension": ".py",
   "mimetype": "text/x-python",
   "name": "python",
   "nbconvert_exporter": "python",
   "pygments_lexer": "ipython3",
   "version": "3.7.11"
  }
 },
 "nbformat": 4,
 "nbformat_minor": 5
}
