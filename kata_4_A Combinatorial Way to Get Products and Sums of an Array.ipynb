{
 "cells": [
  {
   "cell_type": "code",
   "execution_count": 40,
   "source": [
    "from itertools import combinations\n",
    "import numpy as np\n",
    "import sys \n",
    "\n",
    "\n",
    "lst = [2, 10, 20, 15]\n",
    "num_fact = 3\n",
    "num_add = 2\n",
    "max_val = 8\n",
    "\n",
    "\n",
    "lst_1 = list(combinations(lst,num_fact))\n",
    "\n",
    "prod_list=[]\n",
    "for i in lst_1:\n",
    "    prod_list.append(np.prod(i))\n",
    "\n",
    "\n",
    "lst_2 = list(combinations(prod_list,num_add))\n",
    "sum_list=[]\n",
    "\n",
    "for j in lst_2:\n",
    "    sum_list.append(np.sum(j))\n",
    "\n",
    "count1=0\n",
    "count2=0\n",
    "count3=0\n",
    "\n",
    "for k in sum_list:\n",
    "    if k < max_val:\n",
    "        count1+=1\n",
    "    elif k==max_val:\n",
    "        count2+=1\n",
    "    elif k>max_val:\n",
    "        count3+=1\n",
    "print (count1)\n",
    "print(count2)\n",
    "print(count3)\n",
    "\n",
    "print([{'Below than 8': count1}, {'Equals to 8': count2}, {'Higher than 8': count3}])\n",
    "\n"
   ],
   "outputs": [
    {
     "output_type": "stream",
     "name": "stdout",
     "text": [
      "0\n",
      "0\n",
      "6\n",
      "[{'Below than 8': 0}, {'Equals to 8': 0}, {'Higher than 8': 6}]\n"
     ]
    }
   ],
   "metadata": {}
  }
 ],
 "metadata": {
  "orig_nbformat": 4,
  "language_info": {
   "name": "python",
   "version": "3.7.11",
   "mimetype": "text/x-python",
   "codemirror_mode": {
    "name": "ipython",
    "version": 3
   },
   "pygments_lexer": "ipython3",
   "nbconvert_exporter": "python",
   "file_extension": ".py"
  },
  "kernelspec": {
   "name": "python3",
   "display_name": "Python 3.7.11 64-bit ('ironhack_env': conda)"
  },
  "interpreter": {
   "hash": "8c5c2b57ca15aef8b3df4b1c6669ccf99964c5a816b33fa10768565149e83d50"
  }
 },
 "nbformat": 4,
 "nbformat_minor": 2
}