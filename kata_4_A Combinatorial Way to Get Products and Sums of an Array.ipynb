{
 "cells": [
  {
   "cell_type": "markdown",
   "source": [
    "# A Combinatorial Way to Get Products and Sums of an Array"
   ],
   "metadata": {}
  },
  {
   "cell_type": "markdown",
   "source": [
    "https://www.codewars.com/kata/561f18d45df118e7c400000b/train/python"
   ],
   "metadata": {}
  },
  {
   "cell_type": "code",
   "execution_count": 126,
   "source": [
    "from itertools import combinations\n",
    "import numpy as np\n",
    "import sys \n",
    "\n",
    "def eval_prod_sum(lst, num_fact, num_add, max_val):\n",
    "\n",
    "    def check_errors(a,b,c,d):\n",
    "        for item in d:\n",
    "            if type(item)!=int:\n",
    "                return 1\n",
    "        if type(a)!=int or type(b)!=int or type(c)!=int:\n",
    "            return 1\n",
    "        elif a<=0 or b<=0 or c<=0:\n",
    "            return 1\n",
    "        elif b > min(int(str(len(lst)) + str(num_fact)),int(str(num_fact) + str(len(lst)))):\n",
    "            return 2\n",
    "        elif a>=len(d):\n",
    "            return 3\n",
    "        \n",
    "        else:\n",
    "            return False\n",
    "\n",
    "    #a= num_fact\n",
    "    #b= num_add \n",
    "    #c= max_val \n",
    "    #d= lst      \n",
    "    error=check_errors(num_fact,num_add, max_val,lst)\n",
    "\n",
    "    if error==1:\n",
    "        return(\"Error. Unexpected entries\")\n",
    "    elif error==2:\n",
    "        return(\"Error. Number of addens too high\")\n",
    "    elif error==3:\n",
    "        return(\"Error. Number of factors too high\")\n",
    "    else:\n",
    "        lst_1 = list(combinations(lst,num_fact))\n",
    "\n",
    "        prod_list=[]\n",
    "        for i in lst_1:\n",
    "            prod_list.append(np.prod(i))\n",
    "\n",
    "\n",
    "        lst_2 = list(combinations(prod_list,num_add))\n",
    "        sum_list=[]\n",
    "\n",
    "        for j in lst_2:\n",
    "            sum_list.append(np.sum(j))\n",
    "\n",
    "        count1=0\n",
    "        count2=0\n",
    "        count3=0\n",
    "\n",
    "        for k in sum_list:\n",
    "            if k < max_val:\n",
    "                count1+=1\n",
    "            elif k==max_val:\n",
    "                count2+=1\n",
    "            elif k>max_val:\n",
    "                count3+=1\n",
    "\n",
    "        return([{f'Below than {max_val}': count1}, {f'Equals to {max_val}': count2}, {f'Higher than {max_val}': count3}])\n",
    "\n"
   ],
   "outputs": [],
   "metadata": {}
  },
  {
   "cell_type": "code",
   "execution_count": 127,
   "source": [
    "arr = [6, 46, -48, 22, -33]\n",
    "num_fact = 5\n",
    "num_add = 4\n",
    "max_val = 713\n",
    "\n",
    "eval_prod_sum(arr, num_fact, num_add, max_val)"
   ],
   "outputs": [
    {
     "output_type": "execute_result",
     "data": {
      "text/plain": [
       "'Error. Number of factors too high'"
      ]
     },
     "metadata": {},
     "execution_count": 127
    }
   ],
   "metadata": {}
  },
  {
   "cell_type": "code",
   "execution_count": null,
   "source": [],
   "outputs": [],
   "metadata": {}
  }
 ],
 "metadata": {
  "orig_nbformat": 4,
  "language_info": {
   "name": "python",
   "version": "3.7.11",
   "mimetype": "text/x-python",
   "codemirror_mode": {
    "name": "ipython",
    "version": 3
   },
   "pygments_lexer": "ipython3",
   "nbconvert_exporter": "python",
   "file_extension": ".py"
  },
  "kernelspec": {
   "name": "python3",
   "display_name": "Python 3.7.11 64-bit ('ironhack_env': conda)"
  },
  "interpreter": {
   "hash": "8c5c2b57ca15aef8b3df4b1c6669ccf99964c5a816b33fa10768565149e83d50"
  }
 },
 "nbformat": 4,
 "nbformat_minor": 2
}